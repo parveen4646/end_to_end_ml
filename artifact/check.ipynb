{
 "cells": [
  {
   "cell_type": "code",
   "execution_count": 62,
   "metadata": {},
   "outputs": [],
   "source": [
    "import pandas as pd\n",
    "df=pd.read_csv('/Users/Guchi/Documents/projects/endtoendmlproject/artifact/raw.csv')"
   ]
  },
  {
   "cell_type": "code",
   "execution_count": 63,
   "metadata": {},
   "outputs": [
    {
     "data": {
      "text/html": [
       "<div>\n",
       "<style scoped>\n",
       "    .dataframe tbody tr th:only-of-type {\n",
       "        vertical-align: middle;\n",
       "    }\n",
       "\n",
       "    .dataframe tbody tr th {\n",
       "        vertical-align: top;\n",
       "    }\n",
       "\n",
       "    .dataframe thead th {\n",
       "        text-align: right;\n",
       "    }\n",
       "</style>\n",
       "<table border=\"1\" class=\"dataframe\">\n",
       "  <thead>\n",
       "    <tr style=\"text-align: right;\">\n",
       "      <th></th>\n",
       "      <th>age</th>\n",
       "      <th>workclass</th>\n",
       "      <th>education.num</th>\n",
       "      <th>marital.status</th>\n",
       "      <th>occupation</th>\n",
       "      <th>relationship</th>\n",
       "      <th>race</th>\n",
       "      <th>sex</th>\n",
       "      <th>capital.gain</th>\n",
       "      <th>capital.loss</th>\n",
       "      <th>hours.per.week</th>\n",
       "      <th>native.country</th>\n",
       "      <th>income</th>\n",
       "    </tr>\n",
       "  </thead>\n",
       "  <tbody>\n",
       "    <tr>\n",
       "      <th>0</th>\n",
       "      <td>23</td>\n",
       "      <td>Private</td>\n",
       "      <td>10</td>\n",
       "      <td>Never-married</td>\n",
       "      <td>Adm-clerical</td>\n",
       "      <td>Not-in-family</td>\n",
       "      <td>White</td>\n",
       "      <td>Female</td>\n",
       "      <td>0</td>\n",
       "      <td>0</td>\n",
       "      <td>40</td>\n",
       "      <td>United-States</td>\n",
       "      <td>&lt;=50K</td>\n",
       "    </tr>\n",
       "    <tr>\n",
       "      <th>1</th>\n",
       "      <td>43</td>\n",
       "      <td>Private</td>\n",
       "      <td>10</td>\n",
       "      <td>Married-civ-spouse</td>\n",
       "      <td>Exec-managerial</td>\n",
       "      <td>Husband</td>\n",
       "      <td>White</td>\n",
       "      <td>Male</td>\n",
       "      <td>0</td>\n",
       "      <td>0</td>\n",
       "      <td>50</td>\n",
       "      <td>United-States</td>\n",
       "      <td>&gt;50K</td>\n",
       "    </tr>\n",
       "    <tr>\n",
       "      <th>2</th>\n",
       "      <td>49</td>\n",
       "      <td>Self-emp-not-inc</td>\n",
       "      <td>4</td>\n",
       "      <td>Married-civ-spouse</td>\n",
       "      <td>Sales</td>\n",
       "      <td>Husband</td>\n",
       "      <td>White</td>\n",
       "      <td>Male</td>\n",
       "      <td>0</td>\n",
       "      <td>0</td>\n",
       "      <td>40</td>\n",
       "      <td>United-States</td>\n",
       "      <td>&lt;=50K</td>\n",
       "    </tr>\n",
       "    <tr>\n",
       "      <th>3</th>\n",
       "      <td>33</td>\n",
       "      <td>Private</td>\n",
       "      <td>9</td>\n",
       "      <td>Married-civ-spouse</td>\n",
       "      <td>Craft-repair</td>\n",
       "      <td>Husband</td>\n",
       "      <td>Black</td>\n",
       "      <td>Male</td>\n",
       "      <td>0</td>\n",
       "      <td>0</td>\n",
       "      <td>40</td>\n",
       "      <td>United-States</td>\n",
       "      <td>&lt;=50K</td>\n",
       "    </tr>\n",
       "    <tr>\n",
       "      <th>4</th>\n",
       "      <td>22</td>\n",
       "      <td>Private</td>\n",
       "      <td>10</td>\n",
       "      <td>Never-married</td>\n",
       "      <td>Adm-clerical</td>\n",
       "      <td>Own-child</td>\n",
       "      <td>White</td>\n",
       "      <td>Male</td>\n",
       "      <td>0</td>\n",
       "      <td>0</td>\n",
       "      <td>25</td>\n",
       "      <td>United-States</td>\n",
       "      <td>&lt;=50K</td>\n",
       "    </tr>\n",
       "  </tbody>\n",
       "</table>\n",
       "</div>"
      ],
      "text/plain": [
       "   age         workclass  education.num      marital.status       occupation  \\\n",
       "0   23           Private             10       Never-married     Adm-clerical   \n",
       "1   43           Private             10  Married-civ-spouse  Exec-managerial   \n",
       "2   49  Self-emp-not-inc              4  Married-civ-spouse            Sales   \n",
       "3   33           Private              9  Married-civ-spouse     Craft-repair   \n",
       "4   22           Private             10       Never-married     Adm-clerical   \n",
       "\n",
       "    relationship   race     sex  capital.gain  capital.loss  hours.per.week  \\\n",
       "0  Not-in-family  White  Female             0             0              40   \n",
       "1        Husband  White    Male             0             0              50   \n",
       "2        Husband  White    Male             0             0              40   \n",
       "3        Husband  Black    Male             0             0              40   \n",
       "4      Own-child  White    Male             0             0              25   \n",
       "\n",
       "  native.country income  \n",
       "0  United-States  <=50K  \n",
       "1  United-States   >50K  \n",
       "2  United-States  <=50K  \n",
       "3  United-States  <=50K  \n",
       "4  United-States  <=50K  "
      ]
     },
     "execution_count": 63,
     "metadata": {},
     "output_type": "execute_result"
    }
   ],
   "source": [
    "df.head()"
   ]
  },
  {
   "cell_type": "code",
   "execution_count": 64,
   "metadata": {},
   "outputs": [],
   "source": [
    "raw_data=df\n",
    "from sklearn.pipeline import Pipeline\n",
    "from sklearn.preprocessing import  OneHotEncoder,OrdinalEncoder,StandardScaler,LabelEncoder\n",
    "from sklearn.compose import ColumnTransformer\n",
    "from sklearn.impute import SimpleImputer"
   ]
  },
  {
   "cell_type": "code",
   "execution_count": 95,
   "metadata": {},
   "outputs": [],
   "source": [
    "train,test=train_test_split(df,test_size=0.2)\n",
    "lb=LabelEncoder()"
   ]
  },
  {
   "cell_type": "code",
   "execution_count": 96,
   "metadata": {},
   "outputs": [],
   "source": [
    "tar_train=lb.fit_transform(train.income)\n",
    "tar_test=lb.fit_transform(test.income)\n",
    "train=train.drop('income',axis=1)\n",
    "test=test.drop('income',axis=1)\n",
    "raw_data=train"
   ]
  },
  {
   "cell_type": "code",
   "execution_count": 97,
   "metadata": {},
   "outputs": [],
   "source": [
    "\n",
    "            numerical_column=list(raw_data.select_dtypes(exclude='object').columns)\n",
    "            one_hot_column=['sex','race']\n",
    "            categorical_column=list(set(list(raw_data.columns))-set(list(numerical_column + one_hot_column)))\n",
    "            #logging.info(f'transformation_started{numerical_column}{one_hot_column}{categorical_column}')\n",
    "\n",
    "\n",
    "            num_pipeline=Pipeline(steps=[\n",
    "                ('imputer',SimpleImputer(strategy='mean')),\n",
    "                ('standarad_scaler',StandardScaler(),)\n",
    "            ])\n",
    "            cat_pipeline=Pipeline(steps=[\n",
    "                ('imputer',SimpleImputer(strategy='most_frequent')),\n",
    "                ('label_encoding',OrdinalEncoder())\n",
    "            ])\n",
    "            on_hot_pipeeline=Pipeline(steps=[\n",
    "                ('imputer',SimpleImputer(strategy='most_frequent')),\n",
    "                ('one_hot_encode',OneHotEncoder(drop='first'))\n",
    "            ])\n",
    "            #logging.info(f'encodingdata')\n",
    "\n",
    "            preprocessor=ColumnTransformer(\n",
    "                transformers=[('numpipeline',num_pipeline,numerical_column),\n",
    "                ('cat_pipeline',cat_pipeline,categorical_column),\n",
    "                ('one_hot_pipeline',on_hot_pipeeline,one_hot_column)\n",
    "                ],remainder='drop')\n"
   ]
  },
  {
   "cell_type": "code",
   "execution_count": 98,
   "metadata": {},
   "outputs": [],
   "source": [
    "train_arr=preprocessor.fit_transform(train)\n",
    "test_arr=preprocessor.transform(test)"
   ]
  },
  {
   "cell_type": "code",
   "execution_count": 108,
   "metadata": {},
   "outputs": [
    {
     "data": {
      "text/plain": [
       "array([1., 1., 0., ..., 0., 0., 0.])"
      ]
     },
     "execution_count": 108,
     "metadata": {},
     "output_type": "execute_result"
    }
   ],
   "source": [
    "import numpy as np \n",
    "df_qw=np.c_[train_arr,tar_train]\n",
    "df_qw[:,-1]"
   ]
  },
  {
   "cell_type": "code",
   "execution_count": 99,
   "metadata": {},
   "outputs": [
    {
     "data": {
      "text/plain": [
       "array(['numpipeline__age', 'numpipeline__education.num',\n",
       "       'numpipeline__capital.gain', 'numpipeline__capital.loss',\n",
       "       'numpipeline__hours.per.week', 'cat_pipeline__relationship',\n",
       "       'cat_pipeline__marital.status', 'cat_pipeline__native.country',\n",
       "       'cat_pipeline__workclass', 'cat_pipeline__occupation',\n",
       "       'one_hot_pipeline__sex_Male',\n",
       "       'one_hot_pipeline__race_Asian-Pac-Islander',\n",
       "       'one_hot_pipeline__race_Black', 'one_hot_pipeline__race_Other',\n",
       "       'one_hot_pipeline__race_White'], dtype=object)"
      ]
     },
     "execution_count": 99,
     "metadata": {},
     "output_type": "execute_result"
    }
   ],
   "source": [
    "preprocessor.get_feature_names_out()"
   ]
  },
  {
   "cell_type": "code",
   "execution_count": 102,
   "metadata": {},
   "outputs": [
    {
     "name": "stdout",
     "output_type": "stream",
     "text": [
      "              precision    recall  f1-score   support\n",
      "\n",
      "           0       0.88      0.95      0.92      2482\n",
      "           1       0.79      0.60      0.68       775\n",
      "\n",
      "    accuracy                           0.87      3257\n",
      "   macro avg       0.84      0.78      0.80      3257\n",
      "weighted avg       0.86      0.87      0.86      3257\n",
      "\n"
     ]
    }
   ],
   "source": [
    "from sklearn.ensemble import GradientBoostingClassifier\n",
    "gb=GradientBoostingClassifier()\n",
    "gb.fit(train_arr,tar_train)\n",
    "from sklearn.metrics import  classification_report\n",
    "cls= classification_report(tar_test,gb.predict(test_arr))\n",
    "print(cls)"
   ]
  },
  {
   "cell_type": "code",
   "execution_count": 103,
   "metadata": {},
   "outputs": [],
   "source": [
    "new_df=pd.DataFrame(train_arr,columns=preprocessor.get_feature_names_out())"
   ]
  },
  {
   "cell_type": "code",
   "execution_count": 104,
   "metadata": {},
   "outputs": [
    {
     "data": {
      "text/plain": [
       "Index(['numpipeline__age', 'numpipeline__education.num',\n",
       "       'numpipeline__capital.gain', 'numpipeline__capital.loss',\n",
       "       'numpipeline__hours.per.week', 'cat_pipeline__relationship',\n",
       "       'cat_pipeline__marital.status', 'cat_pipeline__native.country',\n",
       "       'cat_pipeline__workclass', 'cat_pipeline__occupation',\n",
       "       'one_hot_pipeline__sex_Male',\n",
       "       'one_hot_pipeline__race_Asian-Pac-Islander',\n",
       "       'one_hot_pipeline__race_Black', 'one_hot_pipeline__race_Other',\n",
       "       'one_hot_pipeline__race_White'],\n",
       "      dtype='object')"
      ]
     },
     "execution_count": 104,
     "metadata": {},
     "output_type": "execute_result"
    }
   ],
   "source": [
    "new_df.columns"
   ]
  },
  {
   "cell_type": "code",
   "execution_count": 75,
   "metadata": {},
   "outputs": [
    {
     "data": {
      "text/plain": [
       "numpy.ndarray"
      ]
     },
     "execution_count": 75,
     "metadata": {},
     "output_type": "execute_result"
    }
   ],
   "source": [
    "from sklearn.preprocessing import  LabelEncoder\n",
    "lb=LabelEncoder()\n",
    "\n",
    "x=lb.fit_transform(train.income)\n",
    "type(x)"
   ]
  },
  {
   "cell_type": "code",
   "execution_count": 76,
   "metadata": {},
   "outputs": [
    {
     "data": {
      "text/plain": [
       "11517    <=50K\n",
       "4888      >50K\n",
       "1788     <=50K\n",
       "5949     <=50K\n",
       "11624    <=50K\n",
       "         ...  \n",
       "14640    <=50K\n",
       "1116      >50K\n",
       "12856     >50K\n",
       "9694     <=50K\n",
       "6590     <=50K\n",
       "Name: income, Length: 13024, dtype: object"
      ]
     },
     "execution_count": 76,
     "metadata": {},
     "output_type": "execute_result"
    }
   ],
   "source": [
    "train.income"
   ]
  },
  {
   "cell_type": "code",
   "execution_count": 77,
   "metadata": {},
   "outputs": [
    {
     "data": {
      "text/plain": [
       "array([0, 1, 0, ..., 1, 0, 0])"
      ]
     },
     "execution_count": 77,
     "metadata": {},
     "output_type": "execute_result"
    }
   ],
   "source": [
    "x"
   ]
  },
  {
   "cell_type": "code",
   "execution_count": 85,
   "metadata": {},
   "outputs": [],
   "source": [
    "y=lb.fit_transform(test.income)"
   ]
  },
  {
   "cell_type": "code",
   "execution_count": 86,
   "metadata": {},
   "outputs": [
    {
     "data": {
      "text/plain": [
       "12428    <=50K\n",
       "10455    <=50K\n",
       "13616    <=50K\n",
       "283      <=50K\n",
       "12132    <=50K\n",
       "         ...  \n",
       "11343    <=50K\n",
       "975       >50K\n",
       "6771      >50K\n",
       "10006    <=50K\n",
       "14424     >50K\n",
       "Name: income, Length: 3257, dtype: object"
      ]
     },
     "execution_count": 86,
     "metadata": {},
     "output_type": "execute_result"
    }
   ],
   "source": [
    "test.income"
   ]
  },
  {
   "cell_type": "code",
   "execution_count": 87,
   "metadata": {},
   "outputs": [
    {
     "data": {
      "text/plain": [
       "array([0, 0, 0, ..., 1, 0, 1])"
      ]
     },
     "execution_count": 87,
     "metadata": {},
     "output_type": "execute_result"
    }
   ],
   "source": [
    "y"
   ]
  },
  {
   "cell_type": "code",
   "execution_count": null,
   "metadata": {},
   "outputs": [],
   "source": []
  }
 ],
 "metadata": {
  "kernelspec": {
   "display_name": "Python 3",
   "language": "python",
   "name": "python3"
  },
  "language_info": {
   "codemirror_mode": {
    "name": "ipython",
    "version": 3
   },
   "file_extension": ".py",
   "mimetype": "text/x-python",
   "name": "python",
   "nbconvert_exporter": "python",
   "pygments_lexer": "ipython3",
   "version": "3.11.5"
  }
 },
 "nbformat": 4,
 "nbformat_minor": 2
}
